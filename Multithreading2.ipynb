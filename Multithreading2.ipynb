{
 "cells": [
  {
   "cell_type": "code",
   "execution_count": null,
   "metadata": {},
   "outputs": [],
   "source": [
    "#Q1\n",
    "'''\n",
    "Multiprocessing in Python refers to the ability to create and manage multiple processes concurrently within the same program. Each process has its memory space, which means that they do not share data by default, offering a higher level of isolation compared to threads. Python's multiprocessing module provides a way to utilize multiple CPU cores and achieve true parallelism, making it useful for CPU-bound tasks that can benefit from concurrent execution.\n",
    "\n",
    "The primary advantage of multiprocessing is that it allows Python programs to take advantage of multiple CPU cores, enabling faster execution of CPU-intensive tasks and improving overall performance. Unlike multithreading, which can be limited by the Global Interpreter Lock (GIL) in CPython, multiprocessing allows separate Python interpreter instances to run in parallel, thereby bypassing the GIL and achieving true parallel execution.\n",
    "\n",
    "\n",
    "'''"
   ]
  },
  {
   "cell_type": "code",
   "execution_count": null,
   "metadata": {},
   "outputs": [],
   "source": [
    "#Q2\n",
    "'''\n",
    "-> Memory Space: In multiprocessing, each process has its memory space, while in multithreading, all threads share the same memory space.\n",
    "\n",
    "-> Parallelism: Multiprocessing achieves true parallelism by running processes in separate Python interpreter instances, taking advantage of multiple CPU cores. In contrast, multithreading is limited by the GIL in CPython and is more suitable for I/O-bound tasks or tasks that involve waiting.\n",
    "\n",
    "-> Overhead: Creating processes incurs more overhead compared to threads because each process has its memory space, while threads share the same memory space, resulting in less overhead.\n",
    "\n",
    "-> Isolation: Multiprocessing provides higher isolation between processes, reducing the likelihood of interference and shared resource issues.\n",
    "'''"
   ]
  },
  {
   "cell_type": "code",
   "execution_count": null,
   "metadata": {},
   "outputs": [],
   "source": [
    "#Q3\n",
    "import multiprocessing\n",
    "\n",
    "def print_numbers():\n",
    "    for i in range(1, 6):\n",
    "        print(f\"Process ID: {multiprocessing.current_process().pid}, Number: {i}\")\n",
    "\n",
    "if __name__ == \"__main__\":\n",
    "    process = multiprocessing.Process(target=print_numbers)\n",
    "    process.start()\n",
    "    process.join()\n"
   ]
  },
  {
   "cell_type": "code",
   "execution_count": null,
   "metadata": {},
   "outputs": [],
   "source": [
    "#Q4\n",
    "'''\n",
    "A multiprocessing pool in Python is a high-level abstraction provided by the multiprocessing.Pool class. It represents a pool of worker processes that can be used to parallelize the execution of a function across multiple input values. The pool manages the creation, distribution, and communication with worker processes, making it easier to distribute tasks and collect results.\n",
    "\n",
    "The multiprocessing.Pool is useful when you have a set of independent tasks that can be executed in parallel. It allows you to utilize multiple CPU cores efficiently, improving the performance of CPU-bound tasks that can benefit from concurrent execution.\n",
    "'''"
   ]
  },
  {
   "cell_type": "code",
   "execution_count": null,
   "metadata": {},
   "outputs": [],
   "source": [
    "#Q5\n",
    "'''\n",
    "To create a pool of worker processes using the multiprocessing module, you can use the multiprocessing.Pool class.\n",
    "The pool's map() method allows you to apply a function to each element of an iterable concurrently. Here's an example:\n",
    "'''\n",
    "import multiprocessing\n",
    "import logging\n",
    "logging.basicConfig(filename=\"content.log\", level=logging.INFO)\n",
    "def square(x):\n",
    "    return x * x\n",
    "\n",
    "if __name__ == \"__main__\":\n",
    "    with multiprocessing.Pool() as pool:\n",
    "        numbers = [1, 2, 3, 4, 5]\n",
    "        results = pool.map(square, numbers)\n",
    "        logging.info(f\"Results: {results}\")\n",
    "        \n"
   ]
  },
  {
   "cell_type": "code",
   "execution_count": null,
   "metadata": {},
   "outputs": [],
   "source": [
    "#Q6\n",
    "import multiprocessing\n",
    "\n",
    "def print_number(number):\n",
    "    print(f\"Process ID: {multiprocessing.current_process().pid}, Number: {number}\")\n",
    "\n",
    "if __name__ == \"__main__\":\n",
    "    processes = []\n",
    "\n",
    "    for i in range(1, 5):\n",
    "        process = multiprocessing.Process(target=print_number, args=(i,))\n",
    "        processes.append(process)\n",
    "        process.start()\n",
    "\n",
    "    for process in processes:\n",
    "        process.join()\n"
   ]
  }
 ],
 "metadata": {
  "language_info": {
   "name": "python"
  },
  "orig_nbformat": 4
 },
 "nbformat": 4,
 "nbformat_minor": 2
}
